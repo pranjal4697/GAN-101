{
  "nbformat": 4,
  "nbformat_minor": 0,
  "metadata": {
    "colab": {
      "name": "GAN-Simple-Cubic-Function.ipynb",
      "provenance": [],
      "authorship_tag": "ABX9TyMqyClhy8u5DNLin1dJ3AmZ",
      "include_colab_link": true
    },
    "kernelspec": {
      "name": "python3",
      "display_name": "Python 3"
    },
    "accelerator": "GPU"
  },
  "cells": [
    {
      "cell_type": "markdown",
      "metadata": {
        "id": "view-in-github",
        "colab_type": "text"
      },
      "source": [
        "<a href=\"https://colab.research.google.com/github/pranjal4697/GAN-101/blob/master/GAN_Simple_Cubic_Function.ipynb\" target=\"_parent\"><img src=\"https://colab.research.google.com/assets/colab-badge.svg\" alt=\"Open In Colab\"/></a>"
      ]
    },
    {
      "cell_type": "code",
      "metadata": {
        "id": "n9yU6KqHwgZ-",
        "colab_type": "code",
        "colab": {
          "base_uri": "https://localhost:8080/",
          "height": 34
        },
        "outputId": "1580a1e6-3830-48c6-e028-2448cb8fc6e8"
      },
      "source": [
        "from google.colab import drive\n",
        "drive.mount('/content/drive')"
      ],
      "execution_count": 108,
      "outputs": [
        {
          "output_type": "stream",
          "text": [
            "Drive already mounted at /content/drive; to attempt to forcibly remount, call drive.mount(\"/content/drive\", force_remount=True).\n"
          ],
          "name": "stdout"
        }
      ]
    },
    {
      "cell_type": "code",
      "metadata": {
        "id": "dUCoh9DGiTYC",
        "colab_type": "code",
        "colab": {}
      },
      "source": [
        "#import all the libraries here\n",
        "import keras\n",
        "import numpy as np\n",
        "import matplotlib.pyplot as plt\n",
        "import tensorflow as tf\n",
        "from keras.layers import Dense\n",
        "from keras.models import Sequential"
      ],
      "execution_count": 0,
      "outputs": []
    },
    {
      "cell_type": "code",
      "metadata": {
        "id": "9XlN7V09i7X2",
        "colab_type": "code",
        "colab": {}
      },
      "source": [
        "def generate_real_samples(number_of_samples):\n",
        "    #generate 'number_of_samples' samples between -0.5 and 0.5\n",
        "    X1 = np.random.rand(number_of_samples) - 0.5\n",
        "    X2 = X1 * X1 * X1\n",
        "    X1 = X1.reshape(number_of_samples, 1)\n",
        "    X2 = X2.reshape(number_of_samples, 1)\n",
        "    x_real = np.hstack((X1, X2))\n",
        "    y_real = np.ones((number_of_samples, 1))\n",
        "    return x_real, y_real\n",
        "\n",
        "def generate_random_vector(number, vector_length=5):\n",
        "    x = np.random.randn(number*vector_length)\n",
        "    x = x.reshape((number, vector_length))\n",
        "    return x\n",
        "\n",
        "def generate_fake_samples(generator, number_of_samples, latent_dim=5):\n",
        "    #generate 'number_of_samples' fake samples\n",
        "    X1 = generate_random_vector(number=number_of_samples, vector_length=latent_dim)\n",
        "    x_fake = generator.predict(X1)\n",
        "    y_fake = np.zeros((number_of_samples, 1))\n",
        "    return x_fake, y_fake"
      ],
      "execution_count": 0,
      "outputs": []
    },
    {
      "cell_type": "code",
      "metadata": {
        "id": "-oAIeiBQk09Q",
        "colab_type": "code",
        "colab": {}
      },
      "source": [
        "def build_generative(input_dim=5):\n",
        "    model = Sequential()\n",
        "    model.add(Dense(15, activation='relu', input_dim=input_dim))\n",
        "    model.add(Dense(2, activation='linear'))\n",
        "    return model\n",
        "\n",
        "def build_discriminative(input_dim=2):\n",
        "    model = Sequential()\n",
        "    model.add(Dense(30, activation='relu', input_dim=input_dim))\n",
        "    model.add(Dense(1, activation='sigmoid'))\n",
        "    model.compile(loss='binary_crossentropy', optimizer='adam', metrics=['accuracy'])\n",
        "    return model\n",
        "\n",
        "def build_gan(gmodel, dmodel):\n",
        "    dmodel.trainable = False\n",
        "    model = Sequential()\n",
        "    model.add(gmodel)\n",
        "    model.add(dmodel)\n",
        "    model.compile(loss='binary_crossentropy', optimizer='adam', metrics=['accuracy'])\n",
        "    return model"
      ],
      "execution_count": 0,
      "outputs": []
    },
    {
      "cell_type": "code",
      "metadata": {
        "id": "_B6BFNr3qkf-",
        "colab_type": "code",
        "colab": {}
      },
      "source": [
        "def summarize_performance(epoch, generator, discriminator, latent_dim, n=100):\n",
        "    # prepare real samples\n",
        "    x_real, y_real = generate_real_samples(n)\n",
        "    # evaluate discriminator on real examples\n",
        "    _, acc_real = discriminator.evaluate(x_real, y_real, verbose=0)\n",
        "    # prepare fake examples\n",
        "    x_fake, y_fake = generate_fake_samples(generator, n, latent_dim)\n",
        "    # evaluate discriminator on fake examples\n",
        "    _, acc_fake = discriminator.evaluate(x_fake, y_fake, verbose=0)\n",
        "    # summarize discriminator performance\n",
        "    print(epoch, acc_real, acc_fake)\n",
        "    # scatter plot real and fake data points\n",
        "    plt.scatter(x_real[:, 0], x_real[:, 1], color='red')\n",
        "    plt.scatter(x_fake[:, 0], x_fake[:, 1], color='blue')\n",
        "    # save plot to file\n",
        "    filename = '/content/drive/My Drive/generated_plot_e%03d.png' % (epoch+1)\n",
        "    plt.savefig(filename)\n",
        "    plt.close()\n"
      ],
      "execution_count": 0,
      "outputs": []
    },
    {
      "cell_type": "code",
      "metadata": {
        "id": "_OT42KB2n2ld",
        "colab_type": "code",
        "colab": {}
      },
      "source": [
        "def train(g_model, d_model, gan_model, epochs=10000, batch_size=128, latent_dim=5, n_eval=2000):\n",
        "    half_batch = int(batch_size/2)\n",
        "    for i in range(epochs):\n",
        "        x_real, y_real = generate_real_samples(half_batch)\n",
        "        x_fake, y_fake = generate_fake_samples(generator=g_model, number_of_samples=half_batch, latent_dim=latent_dim)\n",
        "        d_model.train_on_batch(x_real, y_real)\n",
        "        d_model.train_on_batch(x_fake, y_fake)\n",
        "        x_gan = generate_random_vector(batch_size, latent_dim)\n",
        "        y_gan = np.ones((batch_size, ))\n",
        "        gan_model.train_on_batch(x_gan, y_gan)\n",
        "        if (i+1) % n_eval == 0:\n",
        "            summarize_performance(i, g_model, d_model, latent_dim)\n"
      ],
      "execution_count": 0,
      "outputs": []
    },
    {
      "cell_type": "code",
      "metadata": {
        "id": "45K6i5G0rev4",
        "colab_type": "code",
        "colab": {
          "base_uri": "https://localhost:8080/",
          "height": 154
        },
        "outputId": "e3c081c6-192e-4cae-cbc7-9a25059c9849"
      },
      "source": [
        "latent_dim = 5\n",
        "# create the discriminator\n",
        "discriminator = build_discriminative()\n",
        "# create the generator\n",
        "generator = build_generative(latent_dim)\n",
        "# create the gan\n",
        "gan_model = build_gan(generator, discriminator)\n",
        "# train model\n",
        "train(generator, discriminator, gan_model)"
      ],
      "execution_count": 114,
      "outputs": [
        {
          "output_type": "stream",
          "text": [
            "/usr/local/lib/python3.6/dist-packages/keras/engine/training.py:297: UserWarning: Discrepancy between trainable weights and collected trainable weights, did you set `model.trainable` without calling `model.compile` after ?\n",
            "  'Discrepancy between trainable weights and collected trainable'\n"
          ],
          "name": "stderr"
        },
        {
          "output_type": "stream",
          "text": [
            "1999 0.30000001192092896 1.0\n",
            "3999 0.3499999940395355 0.30000001192092896\n",
            "5999 0.5199999809265137 0.6000000238418579\n",
            "7999 0.47999998927116394 0.5299999713897705\n",
            "9999 0.4399999976158142 0.5400000214576721\n"
          ],
          "name": "stdout"
        }
      ]
    }
  ]
}